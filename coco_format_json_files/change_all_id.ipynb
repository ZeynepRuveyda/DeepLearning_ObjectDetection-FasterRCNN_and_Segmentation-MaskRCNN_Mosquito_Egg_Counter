{
  "nbformat": 4,
  "nbformat_minor": 0,
  "metadata": {
    "colab": {
      "name": "json_merge",
      "provenance": []
    },
    "kernelspec": {
      "name": "python3",
      "display_name": "Python 3"
    },
    "language_info": {
      "name": "python"
    }
  },
  "cells": [
    {
      "cell_type": "code",
      "metadata": {
        "id": "k1PQkT2K_p93"
      },
      "source": [
        "import json\n",
        "def change(names_json):\n",
        "  files = []\n",
        "  for i in names_json:\n",
        "    o = open(str(i)+\".json\", \"r\")\n",
        "    n = json.load(o)\n",
        "    files.append(n)\n",
        "    o.close()\n",
        "  img_list = []\n",
        "  anno_list = []\n",
        "  for j in files:\n",
        "    nm = j[\"images\"]\n",
        "    img_list.append(nm)\n",
        "    an = j[\"annotations\"]\n",
        "    anno_list.append(an)\n",
        "  id = 0\n",
        "  counter_anno_id = 1\n",
        "  for i,a in zip(img_list,anno_list):\n",
        "    num_img = number_images(i)\n",
        "    num_an = num_annotation(a)\n",
        "    counter = 0\n",
        "    for s,c in zip(num_img,num_an):\n",
        "      id = id+1\n",
        "      i[s][\"id\"] = id\n",
        "      i[s][\"file_name\"] = str(id)+\".tif\"\n",
        "\n",
        "      \n",
        "      for k in range(c):\n",
        "        a[counter][\"image_id\"] = id\n",
        "        a[counter][\"id\"] = counter_anno_id\n",
        "        counter +=1\n",
        "        counter_anno_id += 1\n",
        "      \n",
        "\n",
        "\n",
        "\n",
        "  b=0\n",
        "  new_files_name =[]\n",
        "  for j in files:\n",
        "\n",
        "    o = open(str(b)+\"_new.json\", \"w\")\n",
        "    \n",
        "    json.dump(j, o)\n",
        "\n",
        "    o.close()\n",
        "    new_files_name.append(str(b)+\"_new\")\n",
        "    b=b+1\n",
        "  return new_files_name"
      ],
      "execution_count": 25,
      "outputs": []
    },
    {
      "cell_type": "code",
      "metadata": {
        "id": "hv_XzbbpAKud"
      },
      "source": [
        "def num_annotation(ano):\n",
        "  num = []\n",
        "  list_id=[]\n",
        "  for i in ano:\n",
        "    list_id.append(i[\"image_id\"])\n",
        "  un = list(set(list_id))\n",
        "  for j in un:\n",
        "    c=0\n",
        "    for i in ano:\n",
        "      if i[\"image_id\"]==j:\n",
        "        c=c+1\n",
        "    num.append(c)\n",
        "  return num"
      ],
      "execution_count": 26,
      "outputs": []
    },
    {
      "cell_type": "code",
      "metadata": {
        "id": "c7QfoZkZAM6N"
      },
      "source": [
        "def number_images(image):\n",
        "  l_s = []\n",
        "  num_ls = []\n",
        "  for i in image:\n",
        "    l_s.append(i[\"file_name\"])\n",
        "  for j in range(len(l_s)):\n",
        "    num_ls.append(j)\n",
        "\n",
        "  return num_ls"
      ],
      "execution_count": 27,
      "outputs": []
    },
    {
      "cell_type": "code",
      "metadata": {
        "colab": {
          "base_uri": "https://localhost:8080/"
        },
        "id": "OmL8Z4SvA9QB",
        "outputId": "faa7a169-3a46-4058-a3df-3b58e16d81ad"
      },
      "source": [
        "change([0,1,2,3,4])"
      ],
      "execution_count": 28,
      "outputs": [
        {
          "output_type": "execute_result",
          "data": {
            "text/plain": [
              "['0_new', '1_new', '2_new', '3_new', '4_new']"
            ]
          },
          "metadata": {
            "tags": []
          },
          "execution_count": 28
        }
      ]
    },
    {
      "cell_type": "code",
      "metadata": {
        "id": "qonRq_i0a2hS"
      },
      "source": [
        ""
      ],
      "execution_count": 20,
      "outputs": []
    }
  ]
}