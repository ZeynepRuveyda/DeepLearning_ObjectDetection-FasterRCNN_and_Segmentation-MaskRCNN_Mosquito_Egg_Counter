{
 "cells": [
  {
   "cell_type": "markdown",
   "metadata": {},
   "source": [
    "# Merge json file\n",
    "## The jsons file are saved in separated files, they need to be merged the file into one file\n",
    "## There are some limits using datum command\n",
    "### The Datum only merge them into one file without reordering id of each element\n",
    "### The image id and image name should be unique and the annotation id should be unique and continuous\n",
    "### Simply use the json package to change the id in the original file\n",
    "### 1.json 2.json 3.json are files already changed\n",
    "### Then run the following cli,  "
   ]
  },
  {
   "cell_type": "code",
   "execution_count": null,
   "metadata": {},
   "outputs": [],
   "source": [
    "! pip install 'git+https://github.com/openvinotoolkit/datumaro'\n",
    "! datum project create -o merged\n",
    "! cd merged\n",
    "! datum source add path ../1.json -f coco_instances\n",
    "! datum source add path ../2.json -f coco_instances\n",
    "! datum source add path ../3.json -f coco_instances\n",
    "! datum project export -f coco_instances\n"
   ]
  },
  {
   "cell_type": "markdown",
   "metadata": {},
   "source": [
    "# Change id before merging"
   ]
  },
  {
   "cell_type": "code",
   "execution_count": null,
   "metadata": {},
   "outputs": [],
   "source": [
    "# image id should be redefined, no duplication occur, then annotation id should be ranged in a continus way\n",
    "# merget image to cvat\n",
    "# 1, use datum to merge, but needs to reorganise the image id and annotation id\n",
    "# 2, image id, image name, annotation id should be unique, \n",
    "# 3, \n",
    "import json\n",
    "with open(\"egg5-instances_default.json\", \"r\") as jsonFile:\n",
    "    data = json.load(jsonFile)\n",
    "#data[\"location\"] = \"NewPath\"\n",
    "# let annotation id have continuous value before merging\n",
    "anno = data['annotations']\n",
    "\n",
    "# image id, image name, annotation id should be unique, \n",
    "for a in anno:\n",
    "    a['id'] = a['id'] + -707+ 1357\n",
    "    print(\"new_id\",a['id'])\n",
    "with open(\"egg5-replayScript.json\", \"w\") as jsonFile:\n",
    "    json.dump(data, jsonFile)"
   ]
  }
 ],
 "metadata": {
  "kernelspec": {
   "display_name": "Python 3",
   "language": "python",
   "name": "python3"
  },
  "language_info": {
   "codemirror_mode": {
    "name": "ipython",
    "version": 3
   },
   "file_extension": ".py",
   "mimetype": "text/x-python",
   "name": "python",
   "nbconvert_exporter": "python",
   "pygments_lexer": "ipython3",
   "version": "3.8.3"
  }
 },
 "nbformat": 4,
 "nbformat_minor": 4
}
